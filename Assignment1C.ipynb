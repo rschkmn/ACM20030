{
 "cells": [
  {
   "cell_type": "markdown",
   "id": "ebb81117-ebca-4378-8bf9-bf0e7f50311e",
   "metadata": {},
   "source": [
    "## Question 0\n"
   ]
  },
  {
   "cell_type": "code",
   "execution_count": 13,
   "id": "935c4bb1-c2ce-4422-9794-a55c17c8e856",
   "metadata": {},
   "outputs": [],
   "source": [
    "import numpy as np\n",
    "import matplotlib as plt"
   ]
  },
  {
   "cell_type": "markdown",
   "id": "130ba786-b5a4-4030-a6ab-7a45e9c0cb99",
   "metadata": {},
   "source": [
    "## Question 1"
   ]
  },
  {
   "cell_type": "markdown",
   "id": "5bfb2d90-b05b-43bf-a08f-d01d322b092d",
   "metadata": {},
   "source": [
    "(a)"
   ]
  },
  {
   "cell_type": "code",
   "execution_count": 2,
   "id": "59e3396f-17bc-4530-9eba-ed452dc20de9",
   "metadata": {},
   "outputs": [],
   "source": [
    "def VectorLength(x,y):\n",
    "    v = np.sqrt(x**2+y**2)\n",
    "    return v"
   ]
  },
  {
   "cell_type": "markdown",
   "id": "6e39e570-0453-413c-8fbc-9505279989ca",
   "metadata": {},
   "source": [
    "(b)"
   ]
  },
  {
   "cell_type": "code",
   "execution_count": 12,
   "id": "9acc87da-0fa7-478e-8992-938ffe8685c8",
   "metadata": {},
   "outputs": [
    {
     "name": "stdout",
     "output_type": "stream",
     "text": [
      "V(5,6) = 7.810249675906654 and V(-1,5) = 5.0990195135927845\n"
     ]
    }
   ],
   "source": [
    "v1 = VectorLength(5,6)\n",
    "v2 = VectorLength(-1,5)\n",
    "print(\"V(5,6) = {} and V(-1,5) = {}\".format(v1,v2))"
   ]
  },
  {
   "cell_type": "markdown",
   "id": "d3ba5199-0ac6-4c32-85ae-e9c6b1662521",
   "metadata": {},
   "source": [
    "(c)"
   ]
  },
  {
   "cell_type": "code",
   "execution_count": 16,
   "id": "08f737c1-1ebe-466c-a8f4-5f2c7869b885",
   "metadata": {},
   "outputs": [
    {
     "name": "stdout",
     "output_type": "stream",
     "text": [
      "Sin(1) =  0.841\n"
     ]
    }
   ],
   "source": [
    "print('Sin(1) = ', round(np.sin(1),3))"
   ]
  },
  {
   "cell_type": "markdown",
   "id": "38ffc399-ec31-4631-928e-a1f26397ab9c",
   "metadata": {},
   "source": [
    "## Question 2"
   ]
  },
  {
   "cell_type": "code",
   "execution_count": 35,
   "id": "0dc35b8f-9ee7-4e10-86c9-3e3eb8330fda",
   "metadata": {},
   "outputs": [],
   "source": [
    "def IsPrime(n):\n",
    "    i = 2\n",
    "    while i < np.sqrt(n):\n",
    "        if(n % i == 0):\n",
    "            return 0\n",
    "        i+=1\n",
    "    return 1"
   ]
  },
  {
   "cell_type": "code",
   "execution_count": 36,
   "id": "050730dd-f0ac-4a03-8356-328001f0a7e4",
   "metadata": {},
   "outputs": [
    {
     "name": "stdout",
     "output_type": "stream",
     "text": [
      "1 -> 1\n",
      "2 -> 1\n",
      "3 -> 1\n",
      "4 -> 1\n",
      "5 -> 1\n",
      "6 -> 0\n",
      "7 -> 1\n",
      "8 -> 0\n",
      "9 -> 1\n",
      "10 -> 0\n"
     ]
    }
   ],
   "source": [
    "for i in range(1,11):\n",
    "    print(i,\"->\",IsPrime(i))"
   ]
  },
  {
   "cell_type": "markdown",
   "id": "8b39a4f9-6f10-442f-b89c-d227eae8d46c",
   "metadata": {},
   "source": [
    "The function does $not$ work correctly. 1, 4 and 9 should not be prime."
   ]
  },
  {
   "cell_type": "code",
   "execution_count": 60,
   "id": "12c530ca-70e6-4a4e-83dd-b872a381b00b",
   "metadata": {},
   "outputs": [],
   "source": [
    "def IsPrimeB(n):\n",
    "    #(b)\n",
    "    if n == 1:\n",
    "        return 0\n",
    "    else:\n",
    "        i = 2\n",
    "        while i < np.sqrt(n):\n",
    "            #(c)\n",
    "            print('i:',i,'root n:',np.sqrt(n))\n",
    "            if(n % i == 0):\n",
    "                return 0\n",
    "            i+=1           \n",
    "    return 1"
   ]
  },
  {
   "cell_type": "code",
   "execution_count": 61,
   "id": "e3844065-6f18-4612-857c-2976fc820553",
   "metadata": {},
   "outputs": [
    {
     "name": "stdout",
     "output_type": "stream",
     "text": [
      "1 -> 0\n",
      "2 -> 1\n",
      "3 -> 1\n",
      "4 -> 1\n",
      "i: 3 & root n: 2.23606797749979\n",
      "5 -> 1\n",
      "6 -> 0\n",
      "i: 3 & root n: 2.6457513110645907\n",
      "7 -> 1\n",
      "8 -> 0\n",
      "i: 3 & root n: 3.0\n",
      "9 -> 1\n",
      "10 -> 0\n"
     ]
    }
   ],
   "source": [
    "for i in range(1,11):\n",
    "    print(i,\"->\",IsPrimeB(i))"
   ]
  },
  {
   "cell_type": "code",
   "execution_count": 63,
   "id": "bb0cb8c8-b459-450d-a383-56321b3827e7",
   "metadata": {},
   "outputs": [],
   "source": [
    "# the problem is the \"i < np.sqrt(n)\"\n",
    "# this should be \"i <= np.sqrt(n)\" to allow for when sqrt(n) = 2 or 3\n",
    "def IsPrimeC(n):\n",
    "    if n == 1:\n",
    "        return 0\n",
    "    else:\n",
    "        i = 2\n",
    "        while i <= np.sqrt(n):\n",
    "            if(n % i == 0):\n",
    "                return 0\n",
    "            i+=1           \n",
    "    return 1"
   ]
  },
  {
   "cell_type": "code",
   "execution_count": 64,
   "id": "f49a4b79-ebc1-42f8-992a-a4f646c328a6",
   "metadata": {},
   "outputs": [
    {
     "name": "stdout",
     "output_type": "stream",
     "text": [
      "1 -> 0\n",
      "2 -> 1\n",
      "3 -> 1\n",
      "4 -> 0\n",
      "5 -> 1\n",
      "6 -> 0\n",
      "7 -> 1\n",
      "8 -> 0\n",
      "9 -> 0\n",
      "10 -> 0\n"
     ]
    }
   ],
   "source": [
    "for i in range(1,11):\n",
    "    print(i,\"->\",IsPrimeC(i))"
   ]
  },
  {
   "cell_type": "markdown",
   "id": "8bf344d2-3924-40c8-9664-77a92bf4802b",
   "metadata": {},
   "source": [
    "T"
   ]
  }
 ],
 "metadata": {
  "kernelspec": {
   "display_name": "anaconda-panel-2023.05-py310",
   "language": "python",
   "name": "conda-env-anaconda-panel-2023.05-py310-py"
  },
  "language_info": {
   "codemirror_mode": {
    "name": "ipython",
    "version": 3
   },
   "file_extension": ".py",
   "mimetype": "text/x-python",
   "name": "python",
   "nbconvert_exporter": "python",
   "pygments_lexer": "ipython3",
   "version": "3.11.5"
  }
 },
 "nbformat": 4,
 "nbformat_minor": 5
}
