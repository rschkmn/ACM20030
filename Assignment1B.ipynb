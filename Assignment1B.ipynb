{
 "cells": [
  {
   "cell_type": "markdown",
   "id": "ebb81117-ebca-4378-8bf9-bf0e7f50311e",
   "metadata": {},
   "source": [
    "## Question 0\n"
   ]
  },
  {
   "cell_type": "code",
   "execution_count": 13,
   "id": "935c4bb1-c2ce-4422-9794-a55c17c8e856",
   "metadata": {},
   "outputs": [],
   "source": [
    "import numpy as np\n",
    "import matplotlib as plt"
   ]
  },
  {
   "cell_type": "markdown",
   "id": "130ba786-b5a4-4030-a6ab-7a45e9c0cb99",
   "metadata": {},
   "source": [
    "## Question 1"
   ]
  },
  {
   "cell_type": "markdown",
   "id": "5bfb2d90-b05b-43bf-a08f-d01d322b092d",
   "metadata": {},
   "source": [
    "(a)"
   ]
  },
  {
   "cell_type": "code",
   "execution_count": 2,
   "id": "59e3396f-17bc-4530-9eba-ed452dc20de9",
   "metadata": {},
   "outputs": [],
   "source": [
    "def VectorLength(x,y):\n",
    "    v = np.sqrt(x**2+y**2)\n",
    "    return v"
   ]
  },
  {
   "cell_type": "markdown",
   "id": "6e39e570-0453-413c-8fbc-9505279989ca",
   "metadata": {},
   "source": [
    "(b)"
   ]
  },
  {
   "cell_type": "code",
   "execution_count": 12,
   "id": "9acc87da-0fa7-478e-8992-938ffe8685c8",
   "metadata": {},
   "outputs": [
    {
     "name": "stdout",
     "output_type": "stream",
     "text": [
      "V(5,6) = 7.810249675906654 and V(-1,5) = 5.0990195135927845\n"
     ]
    }
   ],
   "source": [
    "v1 = VectorLength(5,6)\n",
    "v2 = VectorLength(-1,5)\n",
    "print(\"V(5,6) = {} and V(-1,5) = {}\".format(v1,v2))"
   ]
  },
  {
   "cell_type": "markdown",
   "id": "d3ba5199-0ac6-4c32-85ae-e9c6b1662521",
   "metadata": {},
   "source": [
    "(c)"
   ]
  },
  {
   "cell_type": "code",
   "execution_count": 15,
   "id": "08f737c1-1ebe-466c-a8f4-5f2c7869b885",
   "metadata": {},
   "outputs": [
    {
     "name": "stdout",
     "output_type": "stream",
     "text": [
      "Sin(1) =  0.841\n"
     ]
    }
   ],
   "source": [
    "print('Sin(1) = ', round(np.sin(1),3))"
   ]
  }
 ],
 "metadata": {
  "kernelspec": {
   "display_name": "anaconda-panel-2023.05-py310",
   "language": "python",
   "name": "conda-env-anaconda-panel-2023.05-py310-py"
  },
  "language_info": {
   "codemirror_mode": {
    "name": "ipython",
    "version": 3
   },
   "file_extension": ".py",
   "mimetype": "text/x-python",
   "name": "python",
   "nbconvert_exporter": "python",
   "pygments_lexer": "ipython3",
   "version": "3.11.5"
  }
 },
 "nbformat": 4,
 "nbformat_minor": 5
}
