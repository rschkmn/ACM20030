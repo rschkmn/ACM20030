{
 "cells": [
  {
   "cell_type": "markdown",
   "id": "ebb81117-ebca-4378-8bf9-bf0e7f50311e",
   "metadata": {},
   "source": [
    "## Question 0\n"
   ]
  },
  {
   "cell_type": "code",
   "execution_count": 1,
   "id": "935c4bb1-c2ce-4422-9794-a55c17c8e856",
   "metadata": {},
   "outputs": [],
   "source": [
    "import numpy as np\n",
    "import matplotlib.pyplot as plt"
   ]
  }
 ],
 "metadata": {
  "kernelspec": {
   "display_name": "anaconda-panel-2023.05-py310",
   "language": "python",
   "name": "conda-env-anaconda-panel-2023.05-py310-py"
  },
  "language_info": {
   "codemirror_mode": {
    "name": "ipython",
    "version": 3
   },
   "file_extension": ".py",
   "mimetype": "text/x-python",
   "name": "python",
   "nbconvert_exporter": "python",
   "pygments_lexer": "ipython3",
   "version": "3.11.5"
  }
 },
 "nbformat": 4,
 "nbformat_minor": 5
}
